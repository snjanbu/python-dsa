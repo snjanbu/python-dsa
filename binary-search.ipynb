{
 "cells": [
  {
   "cell_type": "code",
   "execution_count": 32,
   "metadata": {},
   "outputs": [],
   "source": [
    "# list should be sorted\n",
    "input_list = [1, 2, 2, 2, 3, 3, 4, 5, 6, 7, 8]\n",
    "target = 3"
   ]
  },
  {
   "cell_type": "code",
   "execution_count": 35,
   "metadata": {},
   "outputs": [],
   "source": [
    "def binary_search(nums, low, high, target):\n",
    "    if low <= high:\n",
    "        # Find the middle index\n",
    "        mid = (low + high) // 2\n",
    "        # If target matches the middle element\n",
    "        if nums[mid] == target:\n",
    "            # If unique elements is not present in the list\n",
    "            if nums[mid - 1] == target:\n",
    "                return binary_search(nums, low, mid - 1, target)\n",
    "            else:\n",
    "                return mid\n",
    "        # If target is greater than the middle element\n",
    "        elif nums[mid] < target:\n",
    "            return binary_search(nums, mid + 1, high, target)\n",
    "        # If target is lesser than the middle element\n",
    "        else:\n",
    "            return binary_search(nums, low, mid - 1, target)\n",
    "    return -1"
   ]
  },
  {
   "cell_type": "code",
   "execution_count": 34,
   "metadata": {},
   "outputs": [
    {
     "data": {
      "text/plain": [
       "4"
      ]
     },
     "execution_count": 34,
     "metadata": {},
     "output_type": "execute_result"
    }
   ],
   "source": [
    "binary_search(input_list, 0, len(input_list) - 1, target)"
   ]
  },
  {
   "cell_type": "code",
   "execution_count": 58,
   "metadata": {},
   "outputs": [],
   "source": [
    "## tweek to get the start and ending positions of the number in the sorted array\n",
    "def find_position(nums, low, high, target, position='start'):\n",
    "    if low <= high:\n",
    "        mid = (low + high) // 2\n",
    "        if nums[mid] == target:\n",
    "            if nums[mid + 1] == target and position == 'end':\n",
    "                return find_position(nums, mid + 1, high, target, position)\n",
    "            elif nums[mid - 1] == target and position == 'start':\n",
    "                return find_position(nums, low, mid - 1, target, position)\n",
    "            else:\n",
    "                return mid\n",
    "        elif nums[mid] > target:\n",
    "            return find_position(nums, low, mid - 1, target, position)\n",
    "        else:\n",
    "            return find_position(nums, mid + 1, high, target, position)\n",
    "    return -1"
   ]
  },
  {
   "cell_type": "code",
   "execution_count": 59,
   "metadata": {},
   "outputs": [],
   "source": [
    "def find_start_and_end(nums, target):\n",
    "    return find_position(nums, 0, len(nums) - 1, target, 'start'), find_position(nums, 0, len(nums) - 1, target, 'end')"
   ]
  },
  {
   "cell_type": "code",
   "execution_count": 57,
   "metadata": {},
   "outputs": [
    {
     "data": {
      "text/plain": [
       "(4, 5)"
      ]
     },
     "execution_count": 57,
     "metadata": {},
     "output_type": "execute_result"
    }
   ],
   "source": [
    "find_start_and_end(input_list, target)"
   ]
  },
  {
   "cell_type": "markdown",
   "metadata": {},
   "source": [
    "## Rotation Count\n",
    "\n",
    "Input: [8, 9, 10, 2, 5, 6]\n",
    "Output: 3\n",
    "\n",
    "Input: [2, 5, 6, 8, 9, 10]\n",
    "Output: 0\n"
   ]
  },
  {
   "cell_type": "code",
   "execution_count": 85,
   "metadata": {},
   "outputs": [],
   "source": [
    "def find_rotation_count(nums, low, high):\n",
    "    if low <= high:\n",
    "        mid = (low + high) // 2\n",
    "        if mid > 0 and nums[mid] < nums[mid - 1]:\n",
    "            return len(nums) - mid % len(nums)\n",
    "        else:\n",
    "            return find_rotation_count(nums, mid + 1, high) + find_rotation_count(nums, low, mid - 1)\n",
    "    return 0"
   ]
  },
  {
   "cell_type": "code",
   "execution_count": 86,
   "metadata": {},
   "outputs": [
    {
     "data": {
      "text/plain": [
       "3"
      ]
     },
     "execution_count": 86,
     "metadata": {},
     "output_type": "execute_result"
    }
   ],
   "source": [
    "find_rotation_count([8, 9, 10, 2, 5, 6], 0, 5)"
   ]
  },
  {
   "cell_type": "code",
   "execution_count": 87,
   "metadata": {},
   "outputs": [
    {
     "data": {
      "text/plain": [
       "0"
      ]
     },
     "execution_count": 87,
     "metadata": {},
     "output_type": "execute_result"
    }
   ],
   "source": [
    "find_rotation_count([2, 5, 6, 8, 9, 10], 0, 5)"
   ]
  },
  {
   "cell_type": "code",
   "execution_count": 89,
   "metadata": {},
   "outputs": [
    {
     "data": {
      "text/plain": [
       "7"
      ]
     },
     "execution_count": 89,
     "metadata": {},
     "output_type": "execute_result"
    }
   ],
   "source": [
    "find_rotation_count([8, 1, 2, 3, 4, 5, 6, 7], 0, 7)"
   ]
  },
  {
   "cell_type": "code",
   "execution_count": 90,
   "metadata": {},
   "outputs": [
    {
     "data": {
      "text/plain": [
       "0"
      ]
     },
     "execution_count": 90,
     "metadata": {},
     "output_type": "execute_result"
    }
   ],
   "source": [
    "find_rotation_count([], 0, 0)"
   ]
  },
  {
   "cell_type": "code",
   "execution_count": null,
   "metadata": {},
   "outputs": [],
   "source": []
  }
 ],
 "metadata": {
  "kernelspec": {
   "display_name": "Python 3",
   "language": "python",
   "name": "python3"
  },
  "language_info": {
   "codemirror_mode": {
    "name": "ipython",
    "version": 3
   },
   "file_extension": ".py",
   "mimetype": "text/x-python",
   "name": "python",
   "nbconvert_exporter": "python",
   "pygments_lexer": "ipython3",
   "version": "3.8.5"
  }
 },
 "nbformat": 4,
 "nbformat_minor": 4
}
