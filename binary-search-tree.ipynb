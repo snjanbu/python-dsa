{
 "cells": [
  {
   "cell_type": "markdown",
   "metadata": {},
   "source": [
    "## Problem"
   ]
  },
  {
   "cell_type": "markdown",
   "metadata": {},
   "source": [
    "We need to create a in-memory data structure to store 100 million users. Each user will have username, email and name.\n",
    "- Search the records by username\n",
    "- Update the record given username\n",
    "- Retrieve all the records in sorted order\n",
    "- Delete the record by username"
   ]
  },
  {
   "cell_type": "code",
   "execution_count": 33,
   "metadata": {},
   "outputs": [],
   "source": [
    "class User:\n",
    "    def __init__(self, username, name, email):\n",
    "        self.username = username\n",
    "        self.name = name\n",
    "        self.email = email\n",
    "    \n",
    "    def __str__(self):\n",
    "        # Invoked when print is called on object #print(user1)\n",
    "        return f\"User(name={self.name}, username={self.username}, email={self.email})\"\n",
    "    \n",
    "    def __repr__(self):\n",
    "        # Invoked when object is called plain #user1\n",
    "        return self.__str__() \n",
    "    \n",
    "    def welcome(self, guest_name=\"you\"):\n",
    "        print(f\"{self.name} welcomes {guest_name}\")"
   ]
  },
  {
   "cell_type": "code",
   "execution_count": 34,
   "metadata": {},
   "outputs": [],
   "source": [
    "user1 = User(\"snjanbu\", \"Sanjay\", \"snjanbu@gmail.com\")"
   ]
  },
  {
   "cell_type": "code",
   "execution_count": 35,
   "metadata": {},
   "outputs": [
    {
     "data": {
      "text/plain": [
       "User(name=Sanjay, username=snjanbu, email=snjanbu@gmail.com)"
      ]
     },
     "execution_count": 35,
     "metadata": {},
     "output_type": "execute_result"
    }
   ],
   "source": [
    "user1"
   ]
  },
  {
   "cell_type": "code",
   "execution_count": 36,
   "metadata": {},
   "outputs": [
    {
     "name": "stdout",
     "output_type": "stream",
     "text": [
      "User(name=Sanjay, username=snjanbu, email=snjanbu@gmail.com)\n"
     ]
    }
   ],
   "source": [
    "print(user1)"
   ]
  },
  {
   "cell_type": "code",
   "execution_count": 37,
   "metadata": {},
   "outputs": [
    {
     "name": "stdout",
     "output_type": "stream",
     "text": [
      "Sanjay welcomes you\n"
     ]
    }
   ],
   "source": [
    "user1.welcome()"
   ]
  },
  {
   "cell_type": "code",
   "execution_count": 39,
   "metadata": {},
   "outputs": [
    {
     "name": "stdout",
     "output_type": "stream",
     "text": [
      "Sanjay welcomes John\n"
     ]
    }
   ],
   "source": [
    "User.welcome(user1, \"John\")"
   ]
  },
  {
   "cell_type": "markdown",
   "metadata": {},
   "source": [
    "## Test cases"
   ]
  },
  {
   "cell_type": "markdown",
   "metadata": {},
   "source": [
    "- Insert:\n",
    "    1. Insert in an empty database\n",
    "    2. Insert with an already existing username\n",
    "    3. Insert username with ignore case\n",
    "- Find:\n",
    "    1. Give a existing username\n",
    "    2. Give a non existing username\n",
    "- Update:\n",
    "    1. Give a existing username\n",
    "    2. Give a non existing username\n",
    "- Delete:\n",
    "    1. Give a existing username\n",
    "    2. Give a non existing username"
   ]
  },
  {
   "cell_type": "code",
   "execution_count": 111,
   "metadata": {},
   "outputs": [],
   "source": [
    "# Brute Force\n",
    "class UserDatabase:\n",
    "    def __init__(self):\n",
    "        self.users = []\n",
    "    \n",
    "    def insert(self, user):\n",
    "        insert_index = 0\n",
    "        for user_detail in self.users:\n",
    "            if user_detail.username == user.username:\n",
    "                return \"User already exists\"\n",
    "            if user_detail.username > user.username:\n",
    "                break\n",
    "            insert_index += 1\n",
    "        self.users.insert(insert_index, user)\n",
    "        \n",
    "    def find(self, username):\n",
    "        for index, user_detail in enumerate(self.users):\n",
    "            if user_detail.username == username:\n",
    "                return index, user_detail\n",
    "        return -1, None\n",
    "    \n",
    "    def delete(self, username):\n",
    "        index, user_detail = self.find(username)\n",
    "        if index > -1:\n",
    "            del self.users[index]\n",
    "            return index\n",
    "        return -1\n",
    "            \n",
    "    def update(self, user):\n",
    "        index = self.delete(user.username)\n",
    "        self.users.insert(index, user)\n",
    "        \n",
    "    def get_all_records(self):\n",
    "        return self.users\n",
    "    "
   ]
  },
  {
   "cell_type": "code",
   "execution_count": 112,
   "metadata": {},
   "outputs": [],
   "source": [
    "user1 = User(\"snjanbu1\", \"Sanjay1\", \"snjanbu@gmail.com1\")\n",
    "user2 = User(\"snjanbu2\", \"Sanjay2\", \"snjanbu@gmail.com2\")\n",
    "user3 = User(\"snjanbu3\", \"Sanjay3\", \"snjanbu@gmail.com3\")\n",
    "user4 = User(\"snjanbu4\", \"Sanjay4\", \"snjanbu@gmail.com4\")\n",
    "user5 = User(\"snjanbu5\", \"Sanjay5\", \"snjanbu@gmail.com5\")\n",
    "user6 = User(\"snjanbu6\", \"Sanjay6\", \"snjanbu@gmail.com6\")\n",
    "user6_upd = User(\"snjanbu6\", \"Sanjay6_upd\", \"snjanbu@gmail.com6_upd\")"
   ]
  },
  {
   "cell_type": "code",
   "execution_count": 113,
   "metadata": {},
   "outputs": [
    {
     "data": {
      "text/plain": [
       "[]"
      ]
     },
     "execution_count": 113,
     "metadata": {},
     "output_type": "execute_result"
    }
   ],
   "source": [
    "user_database = UserDatabase()\n",
    "user_database.get_all_records()"
   ]
  },
  {
   "cell_type": "code",
   "execution_count": 114,
   "metadata": {},
   "outputs": [],
   "source": [
    "user_database.insert(user1)\n",
    "user_database.insert(user2)\n",
    "user_database.insert(user3)\n",
    "user_database.insert(user4)\n",
    "user_database.insert(user5)"
   ]
  },
  {
   "cell_type": "code",
   "execution_count": 115,
   "metadata": {},
   "outputs": [
    {
     "data": {
      "text/plain": [
       "[User(name=Sanjay1, username=snjanbu1, email=snjanbu@gmail.com1),\n",
       " User(name=Sanjay2, username=snjanbu2, email=snjanbu@gmail.com2),\n",
       " User(name=Sanjay3, username=snjanbu3, email=snjanbu@gmail.com3),\n",
       " User(name=Sanjay4, username=snjanbu4, email=snjanbu@gmail.com4),\n",
       " User(name=Sanjay5, username=snjanbu5, email=snjanbu@gmail.com5)]"
      ]
     },
     "execution_count": 115,
     "metadata": {},
     "output_type": "execute_result"
    }
   ],
   "source": [
    "user_database.get_all_records()"
   ]
  },
  {
   "cell_type": "code",
   "execution_count": 116,
   "metadata": {},
   "outputs": [
    {
     "data": {
      "text/plain": [
       "(2, User(name=Sanjay3, username=snjanbu3, email=snjanbu@gmail.com3))"
      ]
     },
     "execution_count": 116,
     "metadata": {},
     "output_type": "execute_result"
    }
   ],
   "source": [
    "user_database.find(user3.username)"
   ]
  },
  {
   "cell_type": "code",
   "execution_count": 117,
   "metadata": {},
   "outputs": [],
   "source": [
    "user_database.insert(user6)"
   ]
  },
  {
   "cell_type": "code",
   "execution_count": 118,
   "metadata": {},
   "outputs": [
    {
     "data": {
      "text/plain": [
       "[User(name=Sanjay1, username=snjanbu1, email=snjanbu@gmail.com1),\n",
       " User(name=Sanjay2, username=snjanbu2, email=snjanbu@gmail.com2),\n",
       " User(name=Sanjay3, username=snjanbu3, email=snjanbu@gmail.com3),\n",
       " User(name=Sanjay4, username=snjanbu4, email=snjanbu@gmail.com4),\n",
       " User(name=Sanjay5, username=snjanbu5, email=snjanbu@gmail.com5),\n",
       " User(name=Sanjay6, username=snjanbu6, email=snjanbu@gmail.com6)]"
      ]
     },
     "execution_count": 118,
     "metadata": {},
     "output_type": "execute_result"
    }
   ],
   "source": [
    "user_database.get_all_records()"
   ]
  },
  {
   "cell_type": "code",
   "execution_count": 119,
   "metadata": {},
   "outputs": [],
   "source": [
    "user_database.update(user6_upd)"
   ]
  },
  {
   "cell_type": "code",
   "execution_count": 120,
   "metadata": {},
   "outputs": [
    {
     "data": {
      "text/plain": [
       "[User(name=Sanjay1, username=snjanbu1, email=snjanbu@gmail.com1),\n",
       " User(name=Sanjay2, username=snjanbu2, email=snjanbu@gmail.com2),\n",
       " User(name=Sanjay3, username=snjanbu3, email=snjanbu@gmail.com3),\n",
       " User(name=Sanjay4, username=snjanbu4, email=snjanbu@gmail.com4),\n",
       " User(name=Sanjay5, username=snjanbu5, email=snjanbu@gmail.com5),\n",
       " User(name=Sanjay6_upd, username=snjanbu6, email=snjanbu@gmail.com6_upd)]"
      ]
     },
     "execution_count": 120,
     "metadata": {},
     "output_type": "execute_result"
    }
   ],
   "source": [
    "user_database.get_all_records()"
   ]
  },
  {
   "cell_type": "code",
   "execution_count": 121,
   "metadata": {},
   "outputs": [
    {
     "data": {
      "text/plain": [
       "User(name=Sanjay6_upd, username=snjanbu6, email=snjanbu@gmail.com6_upd)"
      ]
     },
     "execution_count": 121,
     "metadata": {},
     "output_type": "execute_result"
    }
   ],
   "source": [
    "user6_upd"
   ]
  },
  {
   "cell_type": "code",
   "execution_count": 123,
   "metadata": {},
   "outputs": [
    {
     "data": {
      "text/plain": [
       "5"
      ]
     },
     "execution_count": 123,
     "metadata": {},
     "output_type": "execute_result"
    }
   ],
   "source": [
    "user_database.delete(user6_upd.username)"
   ]
  },
  {
   "cell_type": "code",
   "execution_count": 124,
   "metadata": {},
   "outputs": [
    {
     "data": {
      "text/plain": [
       "-1"
      ]
     },
     "execution_count": 124,
     "metadata": {},
     "output_type": "execute_result"
    }
   ],
   "source": [
    "user_database.delete(\"FJIE\")"
   ]
  },
  {
   "cell_type": "code",
   "execution_count": 125,
   "metadata": {},
   "outputs": [
    {
     "data": {
      "text/plain": [
       "(-1, None)"
      ]
     },
     "execution_count": 125,
     "metadata": {},
     "output_type": "execute_result"
    }
   ],
   "source": [
    "user_database.find(\"sdfsjdkf\")"
   ]
  },
  {
   "cell_type": "markdown",
   "metadata": {},
   "source": [
    "### Time Complexity"
   ]
  },
  {
   "cell_type": "markdown",
   "metadata": {},
   "source": [
    "- Find >> O(N)\n",
    "- Delete >> O(N)\n",
    "- Insert >> O(N)\n",
    "- GetAll >> O(1)\n",
    "- Update >> O(N)"
   ]
  },
  {
   "cell_type": "code",
   "execution_count": null,
   "metadata": {},
   "outputs": [],
   "source": []
  }
 ],
 "metadata": {
  "kernelspec": {
   "display_name": "Python 3",
   "language": "python",
   "name": "python3"
  },
  "language_info": {
   "codemirror_mode": {
    "name": "ipython",
    "version": 3
   },
   "file_extension": ".py",
   "mimetype": "text/x-python",
   "name": "python",
   "nbconvert_exporter": "python",
   "pygments_lexer": "ipython3",
   "version": "3.8.5"
  }
 },
 "nbformat": 4,
 "nbformat_minor": 4
}
