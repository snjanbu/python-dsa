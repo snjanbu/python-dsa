{
 "cells": [
  {
   "cell_type": "markdown",
   "metadata": {},
   "source": [
    "## Problem"
   ]
  },
  {
   "cell_type": "markdown",
   "metadata": {},
   "source": [
    "We need to create a in-memory data structure to store 100 million users. Each user will have username, email and name.\n",
    "- Search the records by username\n",
    "- Update the record given username\n",
    "- Retrieve all the records in sorted order\n",
    "- Delete the record by username"
   ]
  },
  {
   "cell_type": "code",
   "execution_count": 2,
   "metadata": {},
   "outputs": [],
   "source": [
    "class User:\n",
    "    def __init__(self, username, name, email):\n",
    "        self.username = username\n",
    "        self.name = name\n",
    "        self.email = email\n",
    "    \n",
    "    def __str__(self):\n",
    "        # Invoked when print is called on object #print(user1)\n",
    "        return f\"User(name={self.name}, username={self.username}, email={self.email})\"\n",
    "    \n",
    "    def __repr__(self):\n",
    "        # Invoked when object is called plain #user1\n",
    "        return self.__str__() \n",
    "    \n",
    "    def welcome(self, guest_name=\"you\"):\n",
    "        print(f\"{self.name} welcomes {guest_name}\")"
   ]
  },
  {
   "cell_type": "code",
   "execution_count": 3,
   "metadata": {},
   "outputs": [],
   "source": [
    "user1 = User(\"snjanbu\", \"Sanjay\", \"snjanbu@gmail.com\")"
   ]
  },
  {
   "cell_type": "code",
   "execution_count": 4,
   "metadata": {},
   "outputs": [
    {
     "data": {
      "text/plain": [
       "User(name=Sanjay, username=snjanbu, email=snjanbu@gmail.com)"
      ]
     },
     "execution_count": 4,
     "metadata": {},
     "output_type": "execute_result"
    }
   ],
   "source": [
    "user1"
   ]
  },
  {
   "cell_type": "code",
   "execution_count": 5,
   "metadata": {},
   "outputs": [
    {
     "name": "stdout",
     "output_type": "stream",
     "text": [
      "User(name=Sanjay, username=snjanbu, email=snjanbu@gmail.com)\n"
     ]
    }
   ],
   "source": [
    "print(user1)"
   ]
  },
  {
   "cell_type": "code",
   "execution_count": 6,
   "metadata": {},
   "outputs": [
    {
     "name": "stdout",
     "output_type": "stream",
     "text": [
      "Sanjay welcomes you\n"
     ]
    }
   ],
   "source": [
    "user1.welcome()"
   ]
  },
  {
   "cell_type": "code",
   "execution_count": 7,
   "metadata": {},
   "outputs": [
    {
     "name": "stdout",
     "output_type": "stream",
     "text": [
      "Sanjay welcomes John\n"
     ]
    }
   ],
   "source": [
    "User.welcome(user1, \"John\")"
   ]
  },
  {
   "cell_type": "markdown",
   "metadata": {},
   "source": [
    "## Test cases"
   ]
  },
  {
   "cell_type": "markdown",
   "metadata": {},
   "source": [
    "- Insert:\n",
    "    1. Insert in an empty database\n",
    "    2. Insert with an already existing username\n",
    "    3. Insert username with ignore case\n",
    "- Find:\n",
    "    1. Give a existing username\n",
    "    2. Give a non existing username\n",
    "- Update:\n",
    "    1. Give a existing username\n",
    "    2. Give a non existing username\n",
    "- Delete:\n",
    "    1. Give a existing username\n",
    "    2. Give a non existing username"
   ]
  },
  {
   "cell_type": "code",
   "execution_count": 8,
   "metadata": {},
   "outputs": [],
   "source": [
    "# Brute Force\n",
    "class UserDatabase:\n",
    "    def __init__(self):\n",
    "        self.users = []\n",
    "    \n",
    "    def insert(self, user):\n",
    "        insert_index = 0\n",
    "        for user_detail in self.users:\n",
    "            if user_detail.username == user.username:\n",
    "                return \"User already exists\"\n",
    "            if user_detail.username > user.username:\n",
    "                break\n",
    "            insert_index += 1\n",
    "        self.users.insert(insert_index, user)\n",
    "        \n",
    "    def find(self, username):\n",
    "        for index, user_detail in enumerate(self.users):\n",
    "            if user_detail.username == username:\n",
    "                return index, user_detail\n",
    "        return -1, None\n",
    "    \n",
    "    def delete(self, username):\n",
    "        index, user_detail = self.find(username)\n",
    "        if index > -1:\n",
    "            del self.users[index]\n",
    "            return index\n",
    "        return -1\n",
    "            \n",
    "    def update(self, user):\n",
    "        index = self.delete(user.username)\n",
    "        self.users.insert(index, user)\n",
    "        \n",
    "    def get_all_records(self):\n",
    "        return self.users\n",
    "    "
   ]
  },
  {
   "cell_type": "code",
   "execution_count": 9,
   "metadata": {},
   "outputs": [],
   "source": [
    "user1 = User(\"snjanbu1\", \"Sanjay1\", \"snjanbu@gmail.com1\")\n",
    "user2 = User(\"snjanbu2\", \"Sanjay2\", \"snjanbu@gmail.com2\")\n",
    "user3 = User(\"snjanbu3\", \"Sanjay3\", \"snjanbu@gmail.com3\")\n",
    "user4 = User(\"snjanbu4\", \"Sanjay4\", \"snjanbu@gmail.com4\")\n",
    "user5 = User(\"snjanbu5\", \"Sanjay5\", \"snjanbu@gmail.com5\")\n",
    "user6 = User(\"snjanbu6\", \"Sanjay6\", \"snjanbu@gmail.com6\")\n",
    "user6_upd = User(\"snjanbu6\", \"Sanjay6_upd\", \"snjanbu@gmail.com6_upd\")"
   ]
  },
  {
   "cell_type": "code",
   "execution_count": 10,
   "metadata": {},
   "outputs": [
    {
     "data": {
      "text/plain": [
       "[]"
      ]
     },
     "execution_count": 10,
     "metadata": {},
     "output_type": "execute_result"
    }
   ],
   "source": [
    "user_database = UserDatabase()\n",
    "user_database.get_all_records()"
   ]
  },
  {
   "cell_type": "code",
   "execution_count": 11,
   "metadata": {},
   "outputs": [],
   "source": [
    "user_database.insert(user1)\n",
    "user_database.insert(user2)\n",
    "user_database.insert(user3)\n",
    "user_database.insert(user4)\n",
    "user_database.insert(user5)"
   ]
  },
  {
   "cell_type": "code",
   "execution_count": 12,
   "metadata": {},
   "outputs": [
    {
     "data": {
      "text/plain": [
       "[User(name=Sanjay1, username=snjanbu1, email=snjanbu@gmail.com1),\n",
       " User(name=Sanjay2, username=snjanbu2, email=snjanbu@gmail.com2),\n",
       " User(name=Sanjay3, username=snjanbu3, email=snjanbu@gmail.com3),\n",
       " User(name=Sanjay4, username=snjanbu4, email=snjanbu@gmail.com4),\n",
       " User(name=Sanjay5, username=snjanbu5, email=snjanbu@gmail.com5)]"
      ]
     },
     "execution_count": 12,
     "metadata": {},
     "output_type": "execute_result"
    }
   ],
   "source": [
    "user_database.get_all_records()"
   ]
  },
  {
   "cell_type": "code",
   "execution_count": 13,
   "metadata": {},
   "outputs": [
    {
     "data": {
      "text/plain": [
       "(2, User(name=Sanjay3, username=snjanbu3, email=snjanbu@gmail.com3))"
      ]
     },
     "execution_count": 13,
     "metadata": {},
     "output_type": "execute_result"
    }
   ],
   "source": [
    "user_database.find(user3.username)"
   ]
  },
  {
   "cell_type": "code",
   "execution_count": 14,
   "metadata": {},
   "outputs": [],
   "source": [
    "user_database.insert(user6)"
   ]
  },
  {
   "cell_type": "code",
   "execution_count": 15,
   "metadata": {},
   "outputs": [
    {
     "data": {
      "text/plain": [
       "[User(name=Sanjay1, username=snjanbu1, email=snjanbu@gmail.com1),\n",
       " User(name=Sanjay2, username=snjanbu2, email=snjanbu@gmail.com2),\n",
       " User(name=Sanjay3, username=snjanbu3, email=snjanbu@gmail.com3),\n",
       " User(name=Sanjay4, username=snjanbu4, email=snjanbu@gmail.com4),\n",
       " User(name=Sanjay5, username=snjanbu5, email=snjanbu@gmail.com5),\n",
       " User(name=Sanjay6, username=snjanbu6, email=snjanbu@gmail.com6)]"
      ]
     },
     "execution_count": 15,
     "metadata": {},
     "output_type": "execute_result"
    }
   ],
   "source": [
    "user_database.get_all_records()"
   ]
  },
  {
   "cell_type": "code",
   "execution_count": 16,
   "metadata": {},
   "outputs": [],
   "source": [
    "user_database.update(user6_upd)"
   ]
  },
  {
   "cell_type": "code",
   "execution_count": 17,
   "metadata": {},
   "outputs": [
    {
     "data": {
      "text/plain": [
       "[User(name=Sanjay1, username=snjanbu1, email=snjanbu@gmail.com1),\n",
       " User(name=Sanjay2, username=snjanbu2, email=snjanbu@gmail.com2),\n",
       " User(name=Sanjay3, username=snjanbu3, email=snjanbu@gmail.com3),\n",
       " User(name=Sanjay4, username=snjanbu4, email=snjanbu@gmail.com4),\n",
       " User(name=Sanjay5, username=snjanbu5, email=snjanbu@gmail.com5),\n",
       " User(name=Sanjay6_upd, username=snjanbu6, email=snjanbu@gmail.com6_upd)]"
      ]
     },
     "execution_count": 17,
     "metadata": {},
     "output_type": "execute_result"
    }
   ],
   "source": [
    "user_database.get_all_records()"
   ]
  },
  {
   "cell_type": "code",
   "execution_count": 18,
   "metadata": {},
   "outputs": [
    {
     "data": {
      "text/plain": [
       "User(name=Sanjay6_upd, username=snjanbu6, email=snjanbu@gmail.com6_upd)"
      ]
     },
     "execution_count": 18,
     "metadata": {},
     "output_type": "execute_result"
    }
   ],
   "source": [
    "user6_upd"
   ]
  },
  {
   "cell_type": "code",
   "execution_count": 19,
   "metadata": {},
   "outputs": [
    {
     "data": {
      "text/plain": [
       "5"
      ]
     },
     "execution_count": 19,
     "metadata": {},
     "output_type": "execute_result"
    }
   ],
   "source": [
    "user_database.delete(user6_upd.username)"
   ]
  },
  {
   "cell_type": "code",
   "execution_count": 20,
   "metadata": {},
   "outputs": [
    {
     "data": {
      "text/plain": [
       "-1"
      ]
     },
     "execution_count": 20,
     "metadata": {},
     "output_type": "execute_result"
    }
   ],
   "source": [
    "user_database.delete(\"FJIE\")"
   ]
  },
  {
   "cell_type": "code",
   "execution_count": 21,
   "metadata": {},
   "outputs": [
    {
     "data": {
      "text/plain": [
       "(-1, None)"
      ]
     },
     "execution_count": 21,
     "metadata": {},
     "output_type": "execute_result"
    }
   ],
   "source": [
    "user_database.find(\"sdfsjdkf\")"
   ]
  },
  {
   "cell_type": "markdown",
   "metadata": {},
   "source": [
    "### Time Complexity"
   ]
  },
  {
   "cell_type": "markdown",
   "metadata": {},
   "source": [
    "- Find >> O(N)\n",
    "- Delete >> O(N)\n",
    "- Insert >> O(N)\n",
    "- GetAll >> O(1)\n",
    "- Update >> O(N)"
   ]
  },
  {
   "cell_type": "markdown",
   "metadata": {},
   "source": [
    "## Check if binary tree is bst"
   ]
  },
  {
   "cell_type": "code",
   "execution_count": 22,
   "metadata": {},
   "outputs": [],
   "source": [
    "class BinaryTreeNode:\n",
    "    def __init__(self, key):\n",
    "        self.key = key\n",
    "        self.left = None\n",
    "        self.right = None\n",
    "    \n",
    "    def __repr__(self):\n",
    "        return str(self.key)\n",
    "    \n",
    "    def __str__(self):\n",
    "        return self.__repr__()"
   ]
  },
  {
   "cell_type": "code",
   "execution_count": 23,
   "metadata": {},
   "outputs": [],
   "source": [
    "tree_tuple = (((1, 2, 3), 4, 5), 6,(7 , 8, (9, 10, 11)))"
   ]
  },
  {
   "cell_type": "code",
   "execution_count": 105,
   "metadata": {},
   "outputs": [],
   "source": [
    "def parse_tuple_to_tree(tree_tuple):\n",
    "    if tree_tuple is not None and type(tree_tuple) == tuple:\n",
    "        node = BinaryTreeNode(tree_tuple[1])\n",
    "        node.left = parse_tuple_to_tree(tree_tuple[0])\n",
    "        node.right = parse_tuple_to_tree(tree_tuple[2])\n",
    "    elif tree_tuple is None:\n",
    "        node = None\n",
    "    else:\n",
    "        node = BinaryTreeNode(tree_tuple)\n",
    "    return node"
   ]
  },
  {
   "cell_type": "code",
   "execution_count": 25,
   "metadata": {},
   "outputs": [],
   "source": [
    "root_node = parse_tuple_to_tree(tree_tuple)"
   ]
  },
  {
   "cell_type": "code",
   "execution_count": 26,
   "metadata": {},
   "outputs": [],
   "source": [
    "def is_bst(node):\n",
    "    if node is None:\n",
    "        return True\n",
    "    is_right_bst = True\n",
    "    is_left_bst = True\n",
    "    if node.right is not None:\n",
    "        is_right_bst = is_bst(node.right) and node.right.key > node.key\n",
    "    if node.left is not None:\n",
    "        is_left_bst = is_bst(node.left) and node.left.key < node.key\n",
    "    return is_right_bst and is_left_bst"
   ]
  },
  {
   "cell_type": "code",
   "execution_count": 27,
   "metadata": {},
   "outputs": [
    {
     "data": {
      "text/plain": [
       "True"
      ]
     },
     "execution_count": 27,
     "metadata": {},
     "output_type": "execute_result"
    }
   ],
   "source": [
    "non_bst_tuple = (1, 2, 11.4)\n",
    "non_bst_root = parse_tuple_to_tree(non_bst_tuple)\n",
    "is_bst(non_bst_root)"
   ]
  },
  {
   "cell_type": "code",
   "execution_count": 28,
   "metadata": {},
   "outputs": [
    {
     "data": {
      "text/plain": [
       "True"
      ]
     },
     "execution_count": 28,
     "metadata": {},
     "output_type": "execute_result"
    }
   ],
   "source": [
    "is_bst(root_node)"
   ]
  },
  {
   "cell_type": "markdown",
   "metadata": {},
   "source": [
    "## Insert a node in BST"
   ]
  },
  {
   "cell_type": "code",
   "execution_count": 29,
   "metadata": {},
   "outputs": [],
   "source": [
    "class BinarySearchNode:\n",
    "    def __init__(self, key, value=None):\n",
    "        self.key = key\n",
    "        self.value = value\n",
    "        self.left = None\n",
    "        self.right = None\n",
    "        self.parent = None\n",
    "        \n",
    "    def __repr__(self):\n",
    "        return str(self.key)\n",
    "    \n",
    "    def __str__(self):\n",
    "        return self.repr()"
   ]
  },
  {
   "cell_type": "code",
   "execution_count": 30,
   "metadata": {},
   "outputs": [],
   "source": [
    "def insert_bst(root, key, value):\n",
    "    if root is None:\n",
    "        root = BinarySearchNode(key, value)\n",
    "    elif key > root.key:\n",
    "        root.right = insert_bst(root.right, key, value)\n",
    "        root.right.parent = root\n",
    "    else:\n",
    "        root.left = insert_bst(root.left, key, value)\n",
    "        root.left.parent = root\n",
    "    return root"
   ]
  },
  {
   "cell_type": "code",
   "execution_count": 31,
   "metadata": {},
   "outputs": [],
   "source": [
    "root = insert_bst(None, user1.username, user1)"
   ]
  },
  {
   "cell_type": "code",
   "execution_count": 32,
   "metadata": {},
   "outputs": [
    {
     "data": {
      "text/plain": [
       "snjanbu1"
      ]
     },
     "execution_count": 32,
     "metadata": {},
     "output_type": "execute_result"
    }
   ],
   "source": [
    "root"
   ]
  },
  {
   "cell_type": "code",
   "execution_count": 33,
   "metadata": {},
   "outputs": [
    {
     "data": {
      "text/plain": [
       "snjanbu1"
      ]
     },
     "execution_count": 33,
     "metadata": {},
     "output_type": "execute_result"
    }
   ],
   "source": [
    "insert_bst(root, user2.username, user2)"
   ]
  },
  {
   "cell_type": "code",
   "execution_count": 34,
   "metadata": {},
   "outputs": [
    {
     "data": {
      "text/plain": [
       "5"
      ]
     },
     "execution_count": 34,
     "metadata": {},
     "output_type": "execute_result"
    }
   ],
   "source": [
    "root = insert_bst(None, 5, 1)\n",
    "insert_bst(root, 4, 4)\n",
    "insert_bst(root, 3, 3)\n",
    "insert_bst(root, 6, 6)\n",
    "insert_bst(root, 7, 7)"
   ]
  },
  {
   "cell_type": "markdown",
   "metadata": {},
   "source": [
    "## Finding the query"
   ]
  },
  {
   "cell_type": "code",
   "execution_count": 35,
   "metadata": {},
   "outputs": [],
   "source": [
    "def find(root, query):\n",
    "    if root is None:\n",
    "        return None\n",
    "    elif query > root.key:\n",
    "        return find(root.right, query)\n",
    "    elif query < root.key:\n",
    "        return find(root.left, query)\n",
    "    elif root.key == query:\n",
    "        return root"
   ]
  },
  {
   "cell_type": "code",
   "execution_count": 36,
   "metadata": {},
   "outputs": [],
   "source": [
    "query_node = find(root, 7)"
   ]
  },
  {
   "cell_type": "code",
   "execution_count": 37,
   "metadata": {},
   "outputs": [
    {
     "data": {
      "text/plain": [
       "6"
      ]
     },
     "execution_count": 37,
     "metadata": {},
     "output_type": "execute_result"
    }
   ],
   "source": [
    "query_node.parent"
   ]
  },
  {
   "cell_type": "markdown",
   "metadata": {},
   "source": [
    "## Updating the query"
   ]
  },
  {
   "cell_type": "code",
   "execution_count": 38,
   "metadata": {},
   "outputs": [],
   "source": [
    "def update_value(root, existing_key, new_value):\n",
    "    node = find(root, existing_key)\n",
    "    if node is not None:\n",
    "        node.value = new_value"
   ]
  },
  {
   "cell_type": "code",
   "execution_count": 39,
   "metadata": {},
   "outputs": [],
   "source": [
    "update_value(root, 7, \"updated 7\")"
   ]
  },
  {
   "cell_type": "code",
   "execution_count": 40,
   "metadata": {},
   "outputs": [
    {
     "data": {
      "text/plain": [
       "'updated 7'"
      ]
     },
     "execution_count": 40,
     "metadata": {},
     "output_type": "execute_result"
    }
   ],
   "source": [
    "find(root, 7).value"
   ]
  },
  {
   "cell_type": "markdown",
   "metadata": {},
   "source": [
    "## Inorder traversal of BST will give the lexographical/sorted order"
   ]
  },
  {
   "cell_type": "markdown",
   "metadata": {},
   "source": [
    "### Check if tree is balanced"
   ]
  },
  {
   "cell_type": "code",
   "execution_count": 70,
   "metadata": {},
   "outputs": [
    {
     "data": {
      "text/plain": [
       "2"
      ]
     },
     "execution_count": 70,
     "metadata": {},
     "output_type": "execute_result"
    }
   ],
   "source": [
    "balanced_tupe = (1, 2, (3, 4, (5, 7, 9)))\n",
    "balanced_root = parse_tuple_to_tree(balanced_tupe)\n",
    "balanced_root"
   ]
  },
  {
   "cell_type": "code",
   "execution_count": 116,
   "metadata": {},
   "outputs": [],
   "source": [
    "def is_tree_balanced(root):\n",
    "    if root is None:\n",
    "        return True, 0\n",
    "    balanced_l, height_l = is_tree_balanced(root.left)\n",
    "    balanced_r, height_r = is_tree_balanced(root.right)\n",
    "    is_balanced = balanced_l and balanced_r and abs(height_l - height_r) <= 1\n",
    "    height = 1 + max(height_l, height_r)\n",
    "    return is_balanced, height"
   ]
  },
  {
   "cell_type": "code",
   "execution_count": 117,
   "metadata": {},
   "outputs": [
    {
     "data": {
      "text/plain": [
       "(False, 4)"
      ]
     },
     "execution_count": 117,
     "metadata": {},
     "output_type": "execute_result"
    }
   ],
   "source": [
    "is_tree_balanced(balanced_root)"
   ]
  },
  {
   "cell_type": "markdown",
   "metadata": {},
   "source": [
    "## Create a balanced BST from sorted elements"
   ]
  },
  {
   "cell_type": "code",
   "execution_count": 122,
   "metadata": {},
   "outputs": [],
   "source": [
    "sorted_array = [1, 2, 3, 4, 5, 6, 7, 8]\n",
    "sorted_tuple = (None, 1, (None, 2, (None, 3, (None, 4, (None, 5, (None, 6, (None, 7, (None, 8, 9))))))))\n",
    "sorted_tree = parse_tuple_to_tree(sorted_tuple)"
   ]
  },
  {
   "cell_type": "code",
   "execution_count": 123,
   "metadata": {},
   "outputs": [
    {
     "data": {
      "text/plain": [
       "(False, 9)"
      ]
     },
     "execution_count": 123,
     "metadata": {},
     "output_type": "execute_result"
    }
   ],
   "source": [
    "is_tree_balanced(sorted_tree)"
   ]
  },
  {
   "cell_type": "code",
   "execution_count": 308,
   "metadata": {},
   "outputs": [],
   "source": [
    "def make_balanced_bst(nums, low, high, parent=None):\n",
    "    root = None\n",
    "    if (low <= high):\n",
    "        mid = (low + high) // 2\n",
    "        element = nums[mid]\n",
    "        \n",
    "        root = BinarySearchNode(element)\n",
    "        root.left = make_balanced_bst(nums, low, mid - 1, root)\n",
    "        root.right = make_balanced_bst(nums, mid + 1, high, root)\n",
    "    return root"
   ]
  },
  {
   "cell_type": "code",
   "execution_count": 309,
   "metadata": {},
   "outputs": [],
   "source": [
    "balanced_bst = make_balanced_bst(sorted_array, 0 , len(sorted_array) - 1)"
   ]
  },
  {
   "cell_type": "code",
   "execution_count": 310,
   "metadata": {},
   "outputs": [
    {
     "data": {
      "text/plain": [
       "4"
      ]
     },
     "execution_count": 310,
     "metadata": {},
     "output_type": "execute_result"
    }
   ],
   "source": [
    "balanced_bst"
   ]
  },
  {
   "cell_type": "code",
   "execution_count": 311,
   "metadata": {},
   "outputs": [
    {
     "data": {
      "text/plain": [
       "(True, 4)"
      ]
     },
     "execution_count": 311,
     "metadata": {},
     "output_type": "execute_result"
    }
   ],
   "source": [
    "is_tree_balanced(balanced_bst)"
   ]
  },
  {
   "cell_type": "markdown",
   "metadata": {},
   "source": [
    "## Convert a non balanced BST into a balanced BST"
   ]
  },
  {
   "cell_type": "markdown",
   "metadata": {},
   "source": [
    "- Convert non balanced BST into sorted element list (Inorder traversal gives BST gives sorted elements)\n",
    "- Convert sorted list to balanced BST"
   ]
  },
  {
   "cell_type": "code",
   "execution_count": 156,
   "metadata": {},
   "outputs": [],
   "source": [
    "def inorder(root, sorted_list=[]):\n",
    "    if root is not None:\n",
    "        inorder(root.left, sorted_list)\n",
    "        sorted_list.append(root.key)\n",
    "        inorder(root.right, sorted_list)\n",
    "    return sorted_list"
   ]
  },
  {
   "cell_type": "code",
   "execution_count": 157,
   "metadata": {},
   "outputs": [
    {
     "data": {
      "text/plain": [
       "[1, 2, 3, 4, 5, 6, 7, 8, 9]"
      ]
     },
     "execution_count": 157,
     "metadata": {},
     "output_type": "execute_result"
    }
   ],
   "source": [
    "sorted_list = inorder(sorted_tree, [])\n",
    "sorted_list"
   ]
  },
  {
   "cell_type": "code",
   "execution_count": 158,
   "metadata": {},
   "outputs": [],
   "source": [
    "sorted_bst = make_balanced_bst(sorted_list, 0, len(sorted_list) - 1, None)"
   ]
  },
  {
   "cell_type": "code",
   "execution_count": 159,
   "metadata": {},
   "outputs": [
    {
     "data": {
      "text/plain": [
       "(True, 4)"
      ]
     },
     "execution_count": 159,
     "metadata": {},
     "output_type": "execute_result"
    }
   ],
   "source": [
    "is_tree_balanced(sorted_bst)"
   ]
  },
  {
   "cell_type": "markdown",
   "metadata": {},
   "source": [
    "## Complexity with balanced BST\n",
    "\n",
    "1. Insert - O(log N) + O(N) = O(N)\n",
    "2. Find - O(log N)\n",
    "3. Update - O(log N)\n",
    "4. Get - O(log N)"
   ]
  },
  {
   "cell_type": "markdown",
   "metadata": {},
   "source": [
    "## TODO\n",
    "\n",
    "1. Implement deletion from BST\n",
    "2. Implement deletion from BST with balancing\n",
    "3. Find the lowest common ancestor of two nodes in a tree\n",
    "4. Find the next node in lexicographic order for a given node\n",
    "5. Given a number k, find the k-th node in BST"
   ]
  },
  {
   "cell_type": "code",
   "execution_count": 275,
   "metadata": {},
   "outputs": [],
   "source": [
    "## Pythonic way for balanced BST\n",
    "class BinarySearchNode:\n",
    "    def __init__(self, key, value=None, parent=None):\n",
    "        self.key = key\n",
    "        self.value = value if value is not None else key\n",
    "        self.parent = parent\n",
    "        self.left = None\n",
    "        self.right = None\n",
    "    \n",
    "    def __repr__(self):\n",
    "        return str(self.key)\n",
    "    \n",
    "    def __str__(self):\n",
    "        return self.__repr__()"
   ]
  },
  {
   "cell_type": "code",
   "execution_count": 276,
   "metadata": {},
   "outputs": [],
   "source": [
    "def find(root, key):\n",
    "    if root is None:\n",
    "        return None\n",
    "    if root.key == key:\n",
    "        return root\n",
    "    elif key > root.key:\n",
    "        return find(root.right, key)\n",
    "    else:\n",
    "        return find(root.left, key)"
   ]
  },
  {
   "cell_type": "code",
   "execution_count": 277,
   "metadata": {},
   "outputs": [],
   "source": [
    "def insert(root, node):\n",
    "    if root is None:\n",
    "        root = node\n",
    "    else:\n",
    "        if node.key > root.key:\n",
    "            root.right = insert(root.right, node)\n",
    "            root.right.parent = root\n",
    "        else:\n",
    "            root.left = insert(root.left, node)\n",
    "            root.left.parent = root\n",
    "    return root"
   ]
  },
  {
   "cell_type": "code",
   "execution_count": 278,
   "metadata": {},
   "outputs": [],
   "source": [
    "def inorder_traversal(root, sorted_list=[]):\n",
    "    if root is None:\n",
    "        return None\n",
    "    inorder_traversal(root.left, sorted_list)\n",
    "    sorted_list.append(root.key)\n",
    "    inorder_traversal(root.right, sorted_list)\n",
    "    return sorted_list"
   ]
  },
  {
   "cell_type": "code",
   "execution_count": 317,
   "metadata": {},
   "outputs": [],
   "source": [
    "def create_balance_tree(nums, low, high, parent=None):\n",
    "    root = None\n",
    "    if low <= high:\n",
    "        mid = (low + high) // 2\n",
    "        element = nums[mid]\n",
    "        \n",
    "        root = BinarySearchNode(element)\n",
    "        root.parent = parent\n",
    "        root.left = create_balance_tree(nums, low, mid - 1, root)\n",
    "        root.right = create_balance_tree(nums, mid + 1, high, root)\n",
    "    return root"
   ]
  },
  {
   "cell_type": "code",
   "execution_count": 334,
   "metadata": {},
   "outputs": [],
   "source": [
    "class TreeMap:\n",
    "    def __init__(self):\n",
    "        self.root = None\n",
    "    \n",
    "    def __setitem__(self, key, value):\n",
    "        node = find(self.root, key)\n",
    "        if node is None:\n",
    "            self.root = insert(self.root, BinarySearchNode(key, value))\n",
    "            sorted_list = inorder_traversal(self.root, [])\n",
    "            self.root = create_balance_tree(sorted_list, 0, len(sorted_list) - 1, None)\n",
    "        else:\n",
    "            node.value = BinarySearchNode(key, value)\n",
    "            \n",
    "    def __getitem__(self, key):\n",
    "        return find(self.root, key)\n",
    "    \n",
    "    def __iter__(self):\n",
    "        return (item for item in inorder_traversal(self.root, []))\n",
    "    \n",
    "        "
   ]
  },
  {
   "cell_type": "code",
   "execution_count": 335,
   "metadata": {},
   "outputs": [],
   "source": [
    "treemap = TreeMap()"
   ]
  },
  {
   "cell_type": "code",
   "execution_count": 336,
   "metadata": {},
   "outputs": [],
   "source": [
    "treemap[1] = 1\n",
    "treemap[2] = 2\n",
    "treemap[3] = 3\n",
    "treemap[4] = 4"
   ]
  },
  {
   "cell_type": "code",
   "execution_count": 341,
   "metadata": {},
   "outputs": [
    {
     "name": "stdout",
     "output_type": "stream",
     "text": [
      "1\n",
      "2\n",
      "3\n",
      "4\n"
     ]
    }
   ],
   "source": [
    "for key in treemap:\n",
    "    print(key)"
   ]
  },
  {
   "cell_type": "code",
   "execution_count": null,
   "metadata": {},
   "outputs": [],
   "source": []
  }
 ],
 "metadata": {
  "kernelspec": {
   "display_name": "Python 3",
   "language": "python",
   "name": "python3"
  },
  "language_info": {
   "codemirror_mode": {
    "name": "ipython",
    "version": 3
   },
   "file_extension": ".py",
   "mimetype": "text/x-python",
   "name": "python",
   "nbconvert_exporter": "python",
   "pygments_lexer": "ipython3",
   "version": "3.8.5"
  }
 },
 "nbformat": 4,
 "nbformat_minor": 4
}
