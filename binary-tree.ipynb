{
 "cells": [
  {
   "cell_type": "markdown",
   "metadata": {},
   "source": [
    "## Binary Tree Implementation"
   ]
  },
  {
   "attachments": {
    "Binary_tree_v2.svg.png": {
     "image/png": "[encoded data removed]"
    }
   },
   "cell_type": "markdown",
   "metadata": {},
   "source": [
    "![Binary_tree_v2.svg.png](attachment:Binary_tree_v2.svg.png)"
   ]
  },
  {
   "cell_type": "code",
   "execution_count": 198,
   "metadata": {},
   "outputs": [],
   "source": [
    "class TreeNode:\n",
    "    def __init__(self, key):\n",
    "        self.key = key\n",
    "        self.right = None\n",
    "        self.left = None\n",
    "        self.distance = 0"
   ]
  },
  {
   "cell_type": "code",
   "execution_count": 199,
   "metadata": {},
   "outputs": [
    {
     "data": {
      "text/plain": [
       "tuple"
      ]
     },
     "execution_count": 199,
     "metadata": {},
     "output_type": "execute_result"
    }
   ],
   "source": [
    "tree_tuple = ((2, 7, (5, 6, 11)), 1, (None, 9, (5, 9, None)))\n",
    "type(tree_tuple)"
   ]
  },
  {
   "cell_type": "code",
   "execution_count": 200,
   "metadata": {},
   "outputs": [],
   "source": [
    "def convert_tuple_to_tree(tree_tuple):\n",
    "    if tree_tuple is not None and type(tree_tuple) == tuple:\n",
    "        node = TreeNode(tree_tuple[1])\n",
    "        node.left = convert_tuple_to_tree(tree_tuple[0])\n",
    "        node.right = convert_tuple_to_tree(tree_tuple[2])\n",
    "    elif tree_tuple is None:\n",
    "        node = None\n",
    "    else:\n",
    "        node = TreeNode(tree_tuple)\n",
    "    return node"
   ]
  },
  {
   "cell_type": "code",
   "execution_count": 201,
   "metadata": {},
   "outputs": [],
   "source": [
    "root_node = convert_tuple_to_tree(tree_tuple)"
   ]
  },
  {
   "cell_type": "code",
   "execution_count": 202,
   "metadata": {},
   "outputs": [
    {
     "name": "stdout",
     "output_type": "stream",
     "text": [
      "2 => 7 => 5 => 6 => 11 => 1 => 9 => 5 => 9 => "
     ]
    }
   ],
   "source": [
    "print_inorder(root_node)"
   ]
  },
  {
   "cell_type": "markdown",
   "metadata": {},
   "source": [
    "## Inorder Traversal"
   ]
  },
  {
   "cell_type": "code",
   "execution_count": 203,
   "metadata": {},
   "outputs": [],
   "source": [
    "## LRN\n",
    "def print_inorder(node):\n",
    "    if node.left is not None:\n",
    "        print_inorder(node.left)\n",
    "    print(node.key, end=\" => \")\n",
    "    if node.right is not None:\n",
    "        print_inorder(node.right)"
   ]
  },
  {
   "cell_type": "code",
   "execution_count": 204,
   "metadata": {},
   "outputs": [
    {
     "name": "stdout",
     "output_type": "stream",
     "text": [
      "2 => 7 => 5 => 6 => 11 => 1 => 9 => 5 => 9 => "
     ]
    }
   ],
   "source": [
    "print_inorder(root_node)"
   ]
  },
  {
   "cell_type": "markdown",
   "metadata": {},
   "source": [
    "## Preorder Traversal"
   ]
  },
  {
   "cell_type": "code",
   "execution_count": 205,
   "metadata": {},
   "outputs": [],
   "source": [
    "## RLN\n",
    "def print_preorder(node):\n",
    "    print(node.key, end=\" => \")\n",
    "    if node.left is not None:\n",
    "        print_preorder(node.left)\n",
    "    if node.right is not None:\n",
    "        print_preorder(node.right)"
   ]
  },
  {
   "cell_type": "code",
   "execution_count": 206,
   "metadata": {},
   "outputs": [
    {
     "name": "stdout",
     "output_type": "stream",
     "text": [
      "1 => 7 => 2 => 6 => 5 => 11 => 9 => 9 => 5 => "
     ]
    }
   ],
   "source": [
    "print_preorder(root_node)"
   ]
  },
  {
   "cell_type": "markdown",
   "metadata": {},
   "source": [
    "## Post order Traversal"
   ]
  },
  {
   "cell_type": "code",
   "execution_count": 207,
   "metadata": {},
   "outputs": [],
   "source": [
    "## LRN\n",
    "def print_postorder(node):\n",
    "    if node.right is not None:\n",
    "        print_postorder(node.right)\n",
    "    if node.left is not None:\n",
    "        print_postorder(node.left)\n",
    "    print(node.key, end=\" => \")"
   ]
  },
  {
   "cell_type": "code",
   "execution_count": 208,
   "metadata": {},
   "outputs": [
    {
     "name": "stdout",
     "output_type": "stream",
     "text": [
      "5 => 9 => 9 => 11 => 5 => 6 => 2 => 7 => 1 => "
     ]
    }
   ],
   "source": [
    "print_postorder(root_node)"
   ]
  },
  {
   "cell_type": "markdown",
   "metadata": {},
   "source": [
    "## Top view of binary tree"
   ]
  },
  {
   "cell_type": "code",
   "execution_count": 209,
   "metadata": {},
   "outputs": [],
   "source": [
    "def print_top_view(node):\n",
    "    if node.left is not None:\n",
    "        print_top_view(node.left)\n",
    "    print(node.key)"
   ]
  },
  {
   "cell_type": "markdown",
   "metadata": {},
   "source": [
    "## Calculate height / depth of a binary tree"
   ]
  },
  {
   "cell_type": "code",
   "execution_count": 210,
   "metadata": {},
   "outputs": [],
   "source": [
    "def calculate_height(node):\n",
    "    if node is None:\n",
    "        return 0\n",
    "    else:\n",
    "        return 1 + max(calculate_height(node.left), calculate_height(node.right))"
   ]
  },
  {
   "cell_type": "code",
   "execution_count": 211,
   "metadata": {},
   "outputs": [
    {
     "data": {
      "text/plain": [
       "4"
      ]
     },
     "execution_count": 211,
     "metadata": {},
     "output_type": "execute_result"
    }
   ],
   "source": [
    "calculate_height(root_node)"
   ]
  },
  {
   "cell_type": "markdown",
   "metadata": {},
   "source": [
    "## Calculate the nodes in binary tree"
   ]
  },
  {
   "cell_type": "code",
   "execution_count": 212,
   "metadata": {},
   "outputs": [],
   "source": [
    "def calculate_nodes(node):\n",
    "    if node is None:\n",
    "        return 0\n",
    "    else:\n",
    "        return 1 + calculate_nodes(node.left) + calculate_nodes(node.right)"
   ]
  },
  {
   "cell_type": "code",
   "execution_count": 213,
   "metadata": {},
   "outputs": [
    {
     "data": {
      "text/plain": [
       "9"
      ]
     },
     "execution_count": 213,
     "metadata": {},
     "output_type": "execute_result"
    }
   ],
   "source": [
    "calculate_nodes(root_node)"
   ]
  },
  {
   "cell_type": "markdown",
   "metadata": {},
   "source": [
    "## Calculate leaf nodes"
   ]
  },
  {
   "cell_type": "code",
   "execution_count": 214,
   "metadata": {},
   "outputs": [],
   "source": [
    "def calculate_leaf_nodes(node):\n",
    "    if node is None:\n",
    "        return 0\n",
    "    elif node.left is None and node.right is None:\n",
    "        print(node.key, end=\" => \")\n",
    "        return 1\n",
    "    else:\n",
    "        return calculate_leaf_nodes(node.left) + calculate_leaf_nodes(node.right)"
   ]
  },
  {
   "cell_type": "code",
   "execution_count": 215,
   "metadata": {},
   "outputs": [
    {
     "name": "stdout",
     "output_type": "stream",
     "text": [
      "2 => 5 => 11 => 5 => "
     ]
    },
    {
     "data": {
      "text/plain": [
       "4"
      ]
     },
     "execution_count": 215,
     "metadata": {},
     "output_type": "execute_result"
    }
   ],
   "source": [
    "calculate_leaf_nodes(root_node)"
   ]
  },
  {
   "cell_type": "markdown",
   "metadata": {},
   "source": [
    "## Level Order Traversal"
   ]
  },
  {
   "cell_type": "code",
   "execution_count": 216,
   "metadata": {},
   "outputs": [],
   "source": [
    "from collections import deque\n",
    "def print_level_order(node):\n",
    "    if node is not None:\n",
    "        level_order_queue = deque()\n",
    "        level_order_queue.append(node)\n",
    "        while (len(level_order_queue) > 0):\n",
    "            count = len(level_order_queue)\n",
    "            while count > 0:\n",
    "                current_node = level_order_queue.popleft()\n",
    "                print(current_node.key, end=\" , \")\n",
    "                if current_node.left is not None:\n",
    "                    level_order_queue.append(current_node.left)\n",
    "                if current_node.right is not None:\n",
    "                    level_order_queue.append(current_node.right)\n",
    "                count -= 1\n",
    "            print()"
   ]
  },
  {
   "cell_type": "code",
   "execution_count": 217,
   "metadata": {},
   "outputs": [
    {
     "name": "stdout",
     "output_type": "stream",
     "text": [
      "1 , \n",
      "7 , 9 , \n",
      "2 , 6 , 9 , \n",
      "5 , 11 , 5 , \n"
     ]
    }
   ],
   "source": [
    "print_level_order(root_node)"
   ]
  },
  {
   "cell_type": "markdown",
   "metadata": {},
   "source": [
    "## Horizontal Distance"
   ]
  },
  {
   "cell_type": "code",
   "execution_count": 227,
   "metadata": {},
   "outputs": [],
   "source": [
    "def horizontal_distance(node):\n",
    "    if node is not None:\n",
    "        from collections import deque\n",
    "        hd_dict = {}\n",
    "        insert_queue = deque()\n",
    "        insert_queue.append(node)\n",
    "        node.distance = 0\n",
    "        while len(insert_queue):\n",
    "            count = len(insert_queue)\n",
    "            while count > 0:\n",
    "                current_node = insert_queue.popleft()\n",
    "                current_distance_list = hd_dict.get(current_node.distance, [])\n",
    "                current_distance_list.extend([current_node.key])\n",
    "                hd_dict[current_node.distance] = current_distance_list\n",
    "                if current_node.left is not None:\n",
    "                    current_node.left.distance = current_node.distance - 1\n",
    "                    insert_queue.append(current_node.left)\n",
    "                if current_node.right is not None:\n",
    "                    current_node.right.distance = current_node.distance + 1\n",
    "                    insert_queue.append(current_node.right)\n",
    "                count -= 1\n",
    "        return hd_dict"
   ]
  },
  {
   "cell_type": "code",
   "execution_count": 228,
   "metadata": {},
   "outputs": [],
   "source": [
    "horizontal_distance_dict = horizontal_distance(one_node)"
   ]
  },
  {
   "cell_type": "markdown",
   "metadata": {},
   "source": [
    "## Top view"
   ]
  },
  {
   "cell_type": "code",
   "execution_count": 235,
   "metadata": {},
   "outputs": [
    {
     "name": "stdout",
     "output_type": "stream",
     "text": [
      "2 => 7 => 1 => 9 => 9 => "
     ]
    }
   ],
   "source": [
    "for key in sorted(horizontal_distance_dict):\n",
    "    print(horizontal_distance_dict[key][0], end=\" => \")"
   ]
  },
  {
   "cell_type": "code",
   "execution_count": 236,
   "metadata": {},
   "outputs": [],
   "source": [
    "## TODO: Maximum depth, minimum depth, diameter of binary tree"
   ]
  },
  {
   "cell_type": "code",
   "execution_count": null,
   "metadata": {},
   "outputs": [],
   "source": []
  }
 ],
 "metadata": {
  "kernelspec": {
   "display_name": "Python 3",
   "language": "python",
   "name": "python3"
  },
  "language_info": {
   "codemirror_mode": {
    "name": "ipython",
    "version": 3
   },
   "file_extension": ".py",
   "mimetype": "text/x-python",
   "name": "python",
   "nbconvert_exporter": "python",
   "pygments_lexer": "ipython3",
   "version": "3.8.5"
  }
 },
 "nbformat": 4,
 "nbformat_minor": 4
}
